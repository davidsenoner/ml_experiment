{
 "cells": [
  {
   "cell_type": "code",
   "execution_count": 82,
   "id": "00d2b530-65e7-4afd-b4d9-be739c510129",
   "metadata": {},
   "outputs": [],
   "source": [
    "import numpy as np\n",
    "import matplotlib.pyplot as plt\n",
    "\n",
    "m = 100\n",
    "X = 6*np.random.rand(m ,1) - 3\n",
    "y = 0.5 * X**2 + X + 2 + np.random.randn(m, 1)"
   ]
  },
  {
   "cell_type": "code",
   "execution_count": 113,
   "id": "7f39e7ec-6029-4337-a9ce-fe5bfef53c43",
   "metadata": {},
   "outputs": [],
   "source": [
    "from sklearn.preprocessing import PolynomialFeatures\n",
    "\n",
    "poly_features = PolynomialFeatures(degree=2, include_bias=False)\n",
    "X_poly = poly_features.fit_transform(X)"
   ]
  },
  {
   "cell_type": "code",
   "execution_count": 21,
   "id": "02aeafdd-1e30-477e-b474-fe92ddc13433",
   "metadata": {},
   "outputs": [
    {
     "data": {
      "text/plain": [
       "array([-0.38271976])"
      ]
     },
     "execution_count": 21,
     "metadata": {},
     "output_type": "execute_result"
    }
   ],
   "source": [
    "X[0]"
   ]
  },
  {
   "cell_type": "code",
   "execution_count": 112,
   "id": "05d5057a-f95b-4205-9240-97be8e63128a",
   "metadata": {},
   "outputs": [
    {
     "data": {
      "text/plain": [
       "((100, 3), (100, 1))"
      ]
     },
     "execution_count": 112,
     "metadata": {},
     "output_type": "execute_result"
    }
   ],
   "source": [
    "X_poly.shape, y.shape"
   ]
  },
  {
   "cell_type": "code",
   "execution_count": 85,
   "id": "a5cf0ec0-979a-43b8-a53c-0c2fecd0b7cc",
   "metadata": {},
   "outputs": [
    {
     "data": {
      "text/plain": [
       "(array([2.04395973]), array([[0.95210978, 0.49761324]]))"
      ]
     },
     "execution_count": 85,
     "metadata": {},
     "output_type": "execute_result"
    }
   ],
   "source": [
    "from sklearn.linear_model import LinearRegression\n",
    "\n",
    "lin_regression = LinearRegression()\n",
    "lin_regression.fit(X_poly, y)\n",
    "lin_regression.intercept_, lin_regression.coef_"
   ]
  },
  {
   "cell_type": "code",
   "execution_count": 109,
   "id": "b7d2fad5-d2f5-41b2-ae56-2bbb406ceb6d",
   "metadata": {},
   "outputs": [],
   "source": [
    "def func(x, regression):\n",
    "    return regression.coef_[0,1] * x**2 + regression.coef_[0,0] * x + regression.intercept_\n"
   ]
  },
  {
   "cell_type": "code",
   "execution_count": 110,
   "id": "b12abd3d-b2f8-496e-b7df-5c32e05c3693",
   "metadata": {},
   "outputs": [
    {
     "data": {
      "image/png": "[encoded data removed]",
      "text/plain": [
       "<Figure size 432x288 with 1 Axes>"
      ]
     },
     "metadata": {
      "needs_background": "light"
     },
     "output_type": "display_data"
    }
   ],
   "source": [
    "X_test= np.arange(-3, 3, 0.01)\n",
    "\n",
    "plt.plot(X_test, func(X_test, lin_regression), \"r-\")\n",
    "plt.scatter(X, y, marker='.')\n",
    "plt.show()"
   ]
  },
  {
   "cell_type": "code",
   "execution_count": null,
   "id": "92e9d7b7-29f8-4b96-ab88-597740d9998e",
   "metadata": {},
   "outputs": [],
   "source": []
  }
 ],
 "metadata": {
  "kernelspec": {
   "display_name": "Python 3",
   "language": "python",
   "name": "python3"
  },
  "language_info": {
   "codemirror_mode": {
    "name": "ipython",
    "version": 3
   },
   "file_extension": ".py",
   "mimetype": "text/x-python",
   "name": "python",
   "nbconvert_exporter": "python",
   "pygments_lexer": "ipython3",
   "version": "3.6.8"
  }
 },
 "nbformat": 4,
 "nbformat_minor": 5
}
